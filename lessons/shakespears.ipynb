{
 "cells": [
  {
   "cell_type": "markdown",
   "metadata": {},
   "source": [
    "# Quantifying Shakespeare \n",
    "\n",
    "In this notebook we will:\n",
    "\n",
    "1. Read all of shakespeare's works into a list of strings\n",
    "2. OCunt the frequencies of letters used\n",
    "3. Visualize the resutls of the frequncies\n",
    "\n",
    "The dataset we will use is: <https://bit.ly/shakespeare-txt>\n"
   ]
  },
  {
   "cell_type": "code",
   "execution_count": 26,
   "metadata": {},
   "outputs": [
    {
     "name": "stdout",
     "output_type": "stream",
     "text": [
      "124455\n"
     ]
    }
   ],
   "source": [
    "# Read the lines into a list\n",
    "\n",
    "from io import TextIOWrapper\n",
    "\n",
    "def read_lines(filename: str) -> list[str]:\n",
    "    \"\"\"Read every line from filename into a list.\"\"\"\n",
    "    lines: list[str] = []\n",
    "    file_handle: TextIOWrapper = open(filename, \"r\")\n",
    "    for line in file_handle:\n",
    "        line = line.lower()\n",
    "        line = line.strip()\n",
    "        lines.append(line)\n",
    "    file_handle.close()\n",
    "    return lines\n",
    "\n",
    "shakespeare_lines: list[str] = read_lines(\"./shakespeare.txt\")\n",
    "print(len(shakespeare_lines))"
   ]
  },
  {
   "cell_type": "code",
   "execution_count": 28,
   "metadata": {},
   "outputs": [
    {
     "ename": "TypeError",
     "evalue": "'tuple' object does not support item assignment",
     "output_type": "error",
     "traceback": [
      "\u001b[0;31m---------------------------------------------------------------------------\u001b[0m",
      "\u001b[0;31mTypeError\u001b[0m                                 Traceback (most recent call last)",
      "\u001b[1;32m/Users/arunsoma/comp110-22f-workspace/lessons/shakespears.ipynb Cell 3\u001b[0m in \u001b[0;36m<cell line: 21>\u001b[0;34m()\u001b[0m\n\u001b[1;32m     <a href='vscode-notebook-cell:/Users/arunsoma/comp110-22f-workspace/lessons/shakespears.ipynb#W3sZmlsZQ%3D%3D?line=17'>18</a>\u001b[0m             tally(counts, char)\n\u001b[1;32m     <a href='vscode-notebook-cell:/Users/arunsoma/comp110-22f-workspace/lessons/shakespears.ipynb#W3sZmlsZQ%3D%3D?line=18'>19</a>\u001b[0m     \u001b[39mreturn\u001b[39;00m counts\n\u001b[0;32m---> <a href='vscode-notebook-cell:/Users/arunsoma/comp110-22f-workspace/lessons/shakespears.ipynb#W3sZmlsZQ%3D%3D?line=20'>21</a>\u001b[0m shakespeare_letters: \u001b[39mdict\u001b[39m[\u001b[39mstr\u001b[39m, \u001b[39mint\u001b[39m] \u001b[39m=\u001b[39m count_letters(shakespeare_lines)\n\u001b[1;32m     <a href='vscode-notebook-cell:/Users/arunsoma/comp110-22f-workspace/lessons/shakespears.ipynb#W3sZmlsZQ%3D%3D?line=21'>22</a>\u001b[0m \u001b[39mprint\u001b[39m(shakespeare_letters)\n",
      "\u001b[1;32m/Users/arunsoma/comp110-22f-workspace/lessons/shakespears.ipynb Cell 3\u001b[0m in \u001b[0;36mcount_letters\u001b[0;34m(lines)\u001b[0m\n\u001b[1;32m     <a href='vscode-notebook-cell:/Users/arunsoma/comp110-22f-workspace/lessons/shakespears.ipynb#W3sZmlsZQ%3D%3D?line=15'>16</a>\u001b[0m \u001b[39mfor\u001b[39;00m thing \u001b[39min\u001b[39;00m lines:\n\u001b[1;32m     <a href='vscode-notebook-cell:/Users/arunsoma/comp110-22f-workspace/lessons/shakespears.ipynb#W3sZmlsZQ%3D%3D?line=16'>17</a>\u001b[0m     \u001b[39mfor\u001b[39;00m char \u001b[39min\u001b[39;00m thing:\n\u001b[0;32m---> <a href='vscode-notebook-cell:/Users/arunsoma/comp110-22f-workspace/lessons/shakespears.ipynb#W3sZmlsZQ%3D%3D?line=17'>18</a>\u001b[0m         tally(counts, char)\n\u001b[1;32m     <a href='vscode-notebook-cell:/Users/arunsoma/comp110-22f-workspace/lessons/shakespears.ipynb#W3sZmlsZQ%3D%3D?line=18'>19</a>\u001b[0m \u001b[39mreturn\u001b[39;00m counts\n",
      "\u001b[1;32m/Users/arunsoma/comp110-22f-workspace/lessons/shakespears.ipynb Cell 3\u001b[0m in \u001b[0;36mtally\u001b[0;34m(counts, key)\u001b[0m\n\u001b[1;32m      <a href='vscode-notebook-cell:/Users/arunsoma/comp110-22f-workspace/lessons/shakespears.ipynb#W3sZmlsZQ%3D%3D?line=6'>7</a>\u001b[0m     counts[key] \u001b[39m+\u001b[39m\u001b[39m=\u001b[39m \u001b[39m1\u001b[39m\n\u001b[1;32m      <a href='vscode-notebook-cell:/Users/arunsoma/comp110-22f-workspace/lessons/shakespears.ipynb#W3sZmlsZQ%3D%3D?line=7'>8</a>\u001b[0m \u001b[39melse\u001b[39;00m:\n\u001b[0;32m----> <a href='vscode-notebook-cell:/Users/arunsoma/comp110-22f-workspace/lessons/shakespears.ipynb#W3sZmlsZQ%3D%3D?line=8'>9</a>\u001b[0m     counts[key] \u001b[39m=\u001b[39m \u001b[39m1\u001b[39m\n",
      "\u001b[0;31mTypeError\u001b[0m: 'tuple' object does not support item assignment"
     ]
    }
   ],
   "source": [
    "# Tally up characters\n",
    "# Goal: Define a function named tally\n",
    "\n",
    "\n",
    "def tally(counts: dict[str, int], key: str) -> None:\n",
    "    if key in counts:\n",
    "        counts[key] += 1\n",
    "    else:\n",
    "        counts[key] = 1\n",
    "       \n",
    "\n",
    "\n",
    "def count_letters(lines: list[str]) -> dict[str, int]:\n",
    "    \"\"\"Count the frequencies of all letters in lines.\"\"\"\n",
    "    counts: dict[str, int] = ()\n",
    "    for thing in lines:\n",
    "        for char in thing:\n",
    "            tally(counts, char)\n",
    "    return counts\n",
    "\n",
    "shakespeare_letters: dict[str, int] = count_letters(shakespeare_lines)\n",
    "print(shakespeare_letters)\n",
    "    \n",
    "# It will take two parameters:\n",
    "# 1. A reference to a dictionary whose keys are str and values are int\n",
    "# 2. A str that refers to a key in the dictionary you are tallying\n",
    "# Logic:\n",
    "# If the str / key is in the dictionary , increase its value by one.\n",
    "# Otherwise, set the key's value to 1 in the dictionary\n",
    "# The function returns nothing"
   ]
  }
 ],
 "metadata": {
  "kernelspec": {
   "display_name": "Python 3.10.6 64-bit",
   "language": "python",
   "name": "python3"
  },
  "language_info": {
   "codemirror_mode": {
    "name": "ipython",
    "version": 3
   },
   "file_extension": ".py",
   "mimetype": "text/x-python",
   "name": "python",
   "nbconvert_exporter": "python",
   "pygments_lexer": "ipython3",
   "version": "3.10.6"
  },
  "orig_nbformat": 4,
  "vscode": {
   "interpreter": {
    "hash": "aee8b7b246df8f9039afb4144a1f6fd8d2ca17a180786b69acc140d282b71a49"
   }
  }
 },
 "nbformat": 4,
 "nbformat_minor": 2
}
